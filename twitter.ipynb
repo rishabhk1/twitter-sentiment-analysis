{
  "nbformat": 4,
  "nbformat_minor": 0,
  "metadata": {
    "colab": {
      "name": "twitter.ipynb",
      "version": "0.3.2",
      "provenance": [],
      "collapsed_sections": []
    },
    "kernelspec": {
      "name": "python3",
      "display_name": "Python 3"
    },
    "accelerator": "GPU"
  },
  "cells": [
    {
      "cell_type": "code",
      "metadata": {
        "id": "7nojm_e-GHoe",
        "colab_type": "code",
        "outputId": "fe4087db-67e0-4c47-e3fd-073746d8a495",
        "colab": {
          "base_uri": "https://localhost:8080/",
          "height": 269
        }
      },
      "source": [
        "!wget http://nlp.stanford.edu/data/glove.6B.zip"
      ],
      "execution_count": 0,
      "outputs": [
        {
          "output_type": "stream",
          "text": [
            "--2019-03-11 14:15:15--  http://nlp.stanford.edu/data/glove.6B.zip\n",
            "Resolving nlp.stanford.edu (nlp.stanford.edu)... 171.64.67.140\n",
            "Connecting to nlp.stanford.edu (nlp.stanford.edu)|171.64.67.140|:80... connected.\n",
            "HTTP request sent, awaiting response... 302 Found\n",
            "Location: https://nlp.stanford.edu/data/glove.6B.zip [following]\n",
            "--2019-03-11 14:15:15--  https://nlp.stanford.edu/data/glove.6B.zip\n",
            "Connecting to nlp.stanford.edu (nlp.stanford.edu)|171.64.67.140|:443... connected.\n",
            "HTTP request sent, awaiting response... 200 OK\n",
            "Length: 862182613 (822M) [application/zip]\n",
            "Saving to: ‘glove.6B.zip’\n",
            "\n",
            "glove.6B.zip        100%[===================>] 822.24M  23.9MB/s    in 67s     \n",
            "\n",
            "2019-03-11 14:16:22 (12.4 MB/s) - ‘glove.6B.zip’ saved [862182613/862182613]\n",
            "\n"
          ],
          "name": "stdout"
        }
      ]
    },
    {
      "cell_type": "code",
      "metadata": {
        "id": "yubKnz4KuRI8",
        "colab_type": "code",
        "colab": {}
      },
      "source": [
        ""
      ],
      "execution_count": 0,
      "outputs": []
    },
    {
      "cell_type": "code",
      "metadata": {
        "id": "T3zjxUATGn6V",
        "colab_type": "code",
        "outputId": "a648e9e3-5010-4901-cd6f-3b921fcca083",
        "colab": {
          "base_uri": "https://localhost:8080/",
          "height": 101
        }
      },
      "source": [
        "!unzip glove.6B.zip"
      ],
      "execution_count": 0,
      "outputs": [
        {
          "output_type": "stream",
          "text": [
            "Archive:  glove.6B.zip\n",
            "  inflating: glove.6B.50d.txt        \n",
            "  inflating: glove.6B.100d.txt       \n",
            "  inflating: glove.6B.200d.txt       \n",
            "  inflating: glove.6B.300d.txt       \n"
          ],
          "name": "stdout"
        }
      ]
    },
    {
      "cell_type": "code",
      "metadata": {
        "id": "ulnP2Fihnzo2",
        "colab_type": "code",
        "colab": {}
      },
      "source": [
        "import pandas as pd\n",
        "import csv\n",
        "\n",
        "words = pd.read_table('glove.6B.50d.txt', sep=\" \", index_col=0, header=None, quoting=csv.QUOTE_NONE)\n",
        "def vec(w):\n",
        "  return words.loc[w].as_matrix()\n",
        "words_matrix = words.as_matrix()"
      ],
      "execution_count": 0,
      "outputs": []
    },
    {
      "cell_type": "code",
      "metadata": {
        "id": "g3NHKXQfR6f8",
        "colab_type": "code",
        "outputId": "9310dd17-b818-4a01-a885-ba78ee71f89d",
        "colab": {
          "base_uri": "https://localhost:8080/",
          "height": 168
        }
      },
      "source": [
        "print(words_matrix[0])"
      ],
      "execution_count": 0,
      "outputs": [
        {
          "output_type": "stream",
          "text": [
            "[ 4.1800e-01  2.4968e-01 -4.1242e-01  1.2170e-01  3.4527e-01 -4.4457e-02\n",
            " -4.9688e-01 -1.7862e-01 -6.6023e-04 -6.5660e-01  2.7843e-01 -1.4767e-01\n",
            " -5.5677e-01  1.4658e-01 -9.5095e-03  1.1658e-02  1.0204e-01 -1.2792e-01\n",
            " -8.4430e-01 -1.2181e-01 -1.6801e-02 -3.3279e-01 -1.5520e-01 -2.3131e-01\n",
            " -1.9181e-01 -1.8823e+00 -7.6746e-01  9.9051e-02 -4.2125e-01 -1.9526e-01\n",
            "  4.0071e+00 -1.8594e-01 -5.2287e-01 -3.1681e-01  5.9213e-04  7.4449e-03\n",
            "  1.7778e-01 -1.5897e-01  1.2041e-02 -5.4223e-02 -2.9871e-01 -1.5749e-01\n",
            " -3.4758e-01 -4.5637e-02 -4.4251e-01  1.8785e-01  2.7849e-03 -1.8411e-01\n",
            " -1.1514e-01 -7.8581e-01]\n"
          ],
          "name": "stdout"
        }
      ]
    },
    {
      "cell_type": "code",
      "metadata": {
        "id": "KPrc4kXmoTOB",
        "colab_type": "code",
        "outputId": "935332c6-43cd-4e3d-b2fb-fb156c72acaa",
        "colab": {
          "base_uri": "https://localhost:8080/",
          "height": 34
        }
      },
      "source": [
        "print(len(words_matrix))"
      ],
      "execution_count": 0,
      "outputs": [
        {
          "output_type": "stream",
          "text": [
            "400000\n"
          ],
          "name": "stdout"
        }
      ]
    },
    {
      "cell_type": "code",
      "metadata": {
        "id": "lY9AJZWmr0Px",
        "colab_type": "code",
        "colab": {}
      },
      "source": [
        "w=[]\n",
        "f=open('glove.6B.50d.txt',\"r+\")\n",
        "content=f.readlines()\n",
        "for i in range(len(content)):\n",
        "   w.append(content[i].split(' ')[0])\n",
        "vocab_to_int = dict((c, i+1) for i, c in enumerate(w))\n",
        "int_to_vocab=dict((i+1, c) for i, c in enumerate(w))\n"
      ],
      "execution_count": 0,
      "outputs": []
    },
    {
      "cell_type": "code",
      "metadata": {
        "id": "gMcx2RSSk4Q_",
        "colab_type": "code",
        "outputId": "0ff7be95-8157-41b6-b7bb-43b085919942",
        "colab": {
          "base_uri": "https://localhost:8080/",
          "height": 34
        }
      },
      "source": [
        "vocab_to_int['played']"
      ],
      "execution_count": 0,
      "outputs": [
        {
          "output_type": "execute_result",
          "data": {
            "text/plain": [
              "335"
            ]
          },
          "metadata": {
            "tags": []
          },
          "execution_count": 13
        }
      ]
    },
    {
      "cell_type": "code",
      "metadata": {
        "id": "jJ4gEEa0sHT9",
        "colab_type": "code",
        "colab": {}
      },
      "source": [
        "reviews_pos=[]\n",
        "mx=5\n",
        "\n",
        "f=open('positive.txt','r',encoding = \"ISO-8859-1\")\n",
        "content=f.readlines()\n",
        "for i in range(len(content)):\n",
        "  reviews_pos.append(content[i].split(' '))\n",
        "  reviews_pos[i]=[x.strip(' ,./?:;-\\t\\n\\b&').lower() for x in reviews_pos[i]]\n",
        "  if mx<len(reviews_pos[i]):\n",
        "    mx=len(reviews_pos[i])\n",
        "\n",
        "sentiment_pos=[1]*len(reviews_pos)\n",
        "\n",
        "reviews_neg=[]\n",
        "f=open('negative.txt','r',encoding = \"ISO-8859-1\")\n",
        "content=f.readlines()\n",
        "for i in range(len(content)):\n",
        "  reviews_neg.append(content[i].split(' '))\n",
        "  reviews_neg[i]=[x.strip(' , ./?:;-\\t\\n\\b\\0&\"').lower() for x in reviews_neg[i]]\n",
        "  if mx<len(reviews_neg[i]):\n",
        "    mx=len(reviews_neg[i])\n",
        "\n",
        "\n",
        "\n",
        "sentiment_neg=[0]*len(reviews_neg)\n",
        "\n",
        "\n"
      ],
      "execution_count": 0,
      "outputs": []
    },
    {
      "cell_type": "code",
      "metadata": {
        "id": "KxZ9j8RvkO8D",
        "colab_type": "code",
        "outputId": "5c9045e6-e546-4984-87d4-b2f85f058a13",
        "colab": {
          "base_uri": "https://localhost:8080/",
          "height": 162
        }
      },
      "source": [
        ""
      ],
      "execution_count": 0,
      "outputs": [
        {
          "output_type": "error",
          "ename": "TypeError",
          "evalue": "ignored",
          "traceback": [
            "\u001b[0;31m---------------------------------------------------------------------------\u001b[0m",
            "\u001b[0;31mTypeError\u001b[0m                                 Traceback (most recent call last)",
            "\u001b[0;32m<ipython-input-49-c181d1d9619b>\u001b[0m in \u001b[0;36m<module>\u001b[0;34m()\u001b[0m\n\u001b[0;32m----> 1\u001b[0;31m \u001b[0mprint\u001b[0m\u001b[0;34m(\u001b[0m\u001b[0mord\u001b[0m\u001b[0;34m(\u001b[0m\u001b[0mreviews_pos\u001b[0m\u001b[0;34m[\u001b[0m\u001b[0;36m0\u001b[0m\u001b[0;34m]\u001b[0m\u001b[0;34m[\u001b[0m\u001b[0;34m-\u001b[0m\u001b[0;36m1\u001b[0m\u001b[0;34m]\u001b[0m\u001b[0;34m)\u001b[0m\u001b[0;34m)\u001b[0m\u001b[0;34m\u001b[0m\u001b[0;34m\u001b[0m\u001b[0m\n\u001b[0m",
            "\u001b[0;31mTypeError\u001b[0m: ord() expected a character, but string of length 0 found"
          ]
        }
      ]
    },
    {
      "cell_type": "code",
      "metadata": {
        "id": "3HXRb_Zxj1RE",
        "colab_type": "code",
        "outputId": "c7abcc68-4477-4dc1-a67b-b563b0a3780d",
        "colab": {
          "base_uri": "https://localhost:8080/",
          "height": 34
        }
      },
      "source": [
        "print(mx)"
      ],
      "execution_count": 0,
      "outputs": [
        {
          "output_type": "stream",
          "text": [
            "61\n"
          ],
          "name": "stdout"
        }
      ]
    },
    {
      "cell_type": "code",
      "metadata": {
        "id": "KNTGAQN_ApRN",
        "colab_type": "code",
        "colab": {}
      },
      "source": [
        "import numpy as np\n",
        "sent_ind_pos=np.zeros((len(reviews_pos),mx),dtype='int32')\n",
        "for i in range(len(reviews_pos)):\n",
        "  for j in range(len(reviews_pos[i])):\n",
        "    if reviews_pos[i][j] in w:\n",
        "      sent_ind_pos[i][j]=vocab_to_int[reviews_pos[i][j]]\n",
        "  \n",
        "sent_ind_neg=np.zeros((len(reviews_neg),mx),dtype='int32')\n",
        "for i in range(len(reviews_neg)):\n",
        "  for j in range(len(reviews_neg[i])):\n",
        "    if reviews_neg[i][j] in w:\n",
        "      sent_ind_neg[i][j]=vocab_to_int[reviews_neg[i][j]]\n",
        "      \n",
        "sent_ind=np.concatenate((sent_ind_pos[:4000],sent_ind_neg[:4000]),axis=0)\n",
        "sent_ind_test=np.concatenate((sent_ind_pos[4000:],sent_ind_neg[4000:]),axis=0)\n",
        "  "
      ],
      "execution_count": 0,
      "outputs": []
    },
    {
      "cell_type": "code",
      "metadata": {
        "id": "ETgYRLydoIeC",
        "colab_type": "code",
        "colab": {}
      },
      "source": [
        "\n",
        "sentiment=sentiment_pos[:4000]+sentiment_neg[:4000]\n",
        "sentiment_test=sentiment_pos[4000:]+sentiment_neg[4000:]"
      ],
      "execution_count": 0,
      "outputs": []
    },
    {
      "cell_type": "code",
      "metadata": {
        "id": "fznjHHmsKgID",
        "colab_type": "code",
        "colab": {}
      },
      "source": [
        "import numpy as np\n",
        "padd=np.zeros((1,50))\n",
        "emb_matrix=np.concatenate((padd,words_matrix),axis=0)"
      ],
      "execution_count": 0,
      "outputs": []
    },
    {
      "cell_type": "code",
      "metadata": {
        "id": "0rBqXu5mR4zG",
        "colab_type": "code",
        "outputId": "9c1d42c4-04c5-4e9d-f5a9-9c53fa4b0e02",
        "colab": {
          "base_uri": "https://localhost:8080/",
          "height": 151
        }
      },
      "source": [
        "print(emb_matrix[8])"
      ],
      "execution_count": 0,
      "outputs": [
        {
          "output_type": "stream",
          "text": [
            "[ 0.21705   0.46515  -0.46757   0.10082   1.0135    0.74845  -0.53104\n",
            " -0.26256   0.16812   0.13182  -0.24909  -0.44185  -0.21739   0.51004\n",
            "  0.13448  -0.43141  -0.03123   0.20674  -0.78138  -0.20148  -0.097401\n",
            "  0.16088  -0.61836  -0.18504  -0.12461  -2.2526   -0.22321   0.5043\n",
            "  0.32257   0.15313   3.9636   -0.71365  -0.67012   0.28388   0.21738\n",
            "  0.14433   0.25926   0.23434   0.4274   -0.44451   0.13813   0.36973\n",
            " -0.64289   0.024142 -0.039315 -0.26037   0.12017  -0.043782  0.41013\n",
            "  0.1796  ]\n"
          ],
          "name": "stdout"
        }
      ]
    },
    {
      "cell_type": "code",
      "metadata": {
        "id": "xAda5Kv6MjXE",
        "colab_type": "code",
        "outputId": "c08dc2a0-5aa7-4677-915e-559fe982dfb8",
        "colab": {
          "base_uri": "https://localhost:8080/",
          "height": 658
        }
      },
      "source": [
        "from keras.models import Model\n",
        "from keras.layers import Dense, Input, Dropout, LSTM, Activation\n",
        "from keras.layers.embeddings import Embedding\n",
        "from keras.preprocessing import sequence\n",
        "from keras.initializers import glorot_uniform\n",
        "from keras.models import Sequential\n",
        "model=Sequential()\n",
        "model.add(Embedding(len(emb_matrix),len(emb_matrix[0]),weights=[emb_matrix],input_length=mx,trainable=False))\n",
        "#embedding_layer.build((None,))\n",
        "#embedding_layer.set_weights([emb_matrix])\n",
        "#embeddings = embedding_layer(sentence_indices)\n",
        "model.add(LSTM(100))\n",
        "#model.add(Dropout(0.2))\n",
        "#model.add(Dropout(0.2))\n",
        "#model.add(Dense(16, activation='relu'))\n",
        "model.add(Dense(1, activation='sigmoid'))\n",
        "model.compile(loss=\"binary_crossentropy\", optimizer=\"adam\", metrics=['accuracy'])\n",
        "\n",
        "model.fit(sent_ind,sentiment,epochs = 15, batch_size = 32)\n"
      ],
      "execution_count": 0,
      "outputs": [
        {
          "output_type": "stream",
          "text": [
            "WARNING:tensorflow:From /usr/local/lib/python3.6/dist-packages/tensorflow/python/framework/op_def_library.py:263: colocate_with (from tensorflow.python.framework.ops) is deprecated and will be removed in a future version.\n",
            "Instructions for updating:\n",
            "Colocations handled automatically by placer.\n",
            "WARNING:tensorflow:From /usr/local/lib/python3.6/dist-packages/tensorflow/python/ops/math_ops.py:3066: to_int32 (from tensorflow.python.ops.math_ops) is deprecated and will be removed in a future version.\n",
            "Instructions for updating:\n",
            "Use tf.cast instead.\n",
            "Epoch 1/15\n",
            "8000/8000 [==============================] - 32s 4ms/step - loss: 0.6921 - acc: 0.5191\n",
            "Epoch 2/15\n",
            "8000/8000 [==============================] - 31s 4ms/step - loss: 0.6898 - acc: 0.5215\n",
            "Epoch 3/15\n",
            "8000/8000 [==============================] - 31s 4ms/step - loss: 0.6923 - acc: 0.5206\n",
            "Epoch 4/15\n",
            "8000/8000 [==============================] - 31s 4ms/step - loss: 0.6434 - acc: 0.6387\n",
            "Epoch 5/15\n",
            "8000/8000 [==============================] - 30s 4ms/step - loss: 0.6048 - acc: 0.6863\n",
            "Epoch 6/15\n",
            "8000/8000 [==============================] - 31s 4ms/step - loss: 0.5593 - acc: 0.7181\n",
            "Epoch 7/15\n",
            "8000/8000 [==============================] - 31s 4ms/step - loss: 0.5406 - acc: 0.7355\n",
            "Epoch 8/15\n",
            "8000/8000 [==============================] - 30s 4ms/step - loss: 0.5243 - acc: 0.7436\n",
            "Epoch 9/15\n",
            "8000/8000 [==============================] - 30s 4ms/step - loss: 0.5131 - acc: 0.7502\n",
            "Epoch 10/15\n",
            "8000/8000 [==============================] - 30s 4ms/step - loss: 0.5009 - acc: 0.7610\n",
            "Epoch 11/15\n",
            "8000/8000 [==============================] - 30s 4ms/step - loss: 0.4767 - acc: 0.7751\n",
            "Epoch 12/15\n",
            "8000/8000 [==============================] - 30s 4ms/step - loss: 0.4824 - acc: 0.7750\n",
            "Epoch 13/15\n",
            "8000/8000 [==============================] - 30s 4ms/step - loss: 0.4581 - acc: 0.7877\n",
            "Epoch 14/15\n",
            "8000/8000 [==============================] - 30s 4ms/step - loss: 0.4339 - acc: 0.8025\n",
            "Epoch 15/15\n",
            "8000/8000 [==============================] - 30s 4ms/step - loss: 0.4213 - acc: 0.8108\n"
          ],
          "name": "stdout"
        },
        {
          "output_type": "execute_result",
          "data": {
            "text/plain": [
              "<keras.callbacks.History at 0x7fa8798a1240>"
            ]
          },
          "metadata": {
            "tags": []
          },
          "execution_count": 20
        }
      ]
    },
    {
      "cell_type": "code",
      "metadata": {
        "id": "smD70Ufxe7Du",
        "colab_type": "code",
        "outputId": "545f2f4d-f183-4382-bbae-9bdf26824b2d",
        "colab": {
          "base_uri": "https://localhost:8080/",
          "height": 50
        }
      },
      "source": [
        "r=model.predict(sent_ind_test)\n",
        "print(acc)\n",
        "r[0]"
      ],
      "execution_count": 0,
      "outputs": [
        {
          "output_type": "stream",
          "text": [
            "0.7535687453490644\n"
          ],
          "name": "stdout"
        },
        {
          "output_type": "execute_result",
          "data": {
            "text/plain": [
              "array([0.93615776], dtype=float32)"
            ]
          },
          "metadata": {
            "tags": []
          },
          "execution_count": 29
        }
      ]
    },
    {
      "cell_type": "code",
      "metadata": {
        "id": "GJMfqiTAmIO3",
        "colab_type": "code",
        "outputId": "5987b2ff-115b-4326-c468-94353e720ccc",
        "colab": {
          "base_uri": "https://localhost:8080/",
          "height": 34
        }
      },
      "source": [
        "len(r)"
      ],
      "execution_count": 0,
      "outputs": [
        {
          "output_type": "execute_result",
          "data": {
            "text/plain": [
              "2662"
            ]
          },
          "metadata": {
            "tags": []
          },
          "execution_count": 34
        }
      ]
    },
    {
      "cell_type": "code",
      "metadata": {
        "id": "IAJavLt581FF",
        "colab_type": "code",
        "outputId": "4560ca44-1ca4-44a8-cd23-b8837cacbfc5",
        "colab": {
          "base_uri": "https://localhost:8080/",
          "height": 34
        }
      },
      "source": [
        "pos=0\n",
        "neg=0\n",
        "\n",
        "for i in range(len(r)):\n",
        "  if r[i]>0.53 and sentiment_test[i]==1:\n",
        "      pos+=1\n",
        "  elif sentiment_test[i]==0 and r[i]<=0.53: \n",
        "     neg+=1\n",
        "pos,neg"
      ],
      "execution_count": 0,
      "outputs": [
        {
          "output_type": "execute_result",
          "data": {
            "text/plain": [
              "(1009, 1002)"
            ]
          },
          "metadata": {
            "tags": []
          },
          "execution_count": 152
        }
      ]
    },
    {
      "cell_type": "code",
      "metadata": {
        "id": "eNg_8lROfEH1",
        "colab_type": "code",
        "outputId": "ac1c3f7b-6ecb-44f3-cbfc-24cedc314934",
        "colab": {
          "base_uri": "https://localhost:8080/",
          "height": 34
        }
      },
      "source": [
        "text='@abc #rv ret'\n",
        "wor=[]\n",
        "wor=text.split(' ')\n",
        "wor=[x.strip(' , ./?@#:;-\\t\\n\\b\\0&\"').lower() for x in wor]\n",
        "eg=np.zeros((1,mx),dtype='int32')\n",
        "for j in range(len(wor)):\n",
        "    if wor[j] in w:\n",
        "      eg[0][j]=vocab_to_int[wor[j]]\n",
        "\n",
        "\n",
        "\n",
        "#z=model.predict(eg)\n",
        "print(eg)\n",
        "print(wor)"
      ],
      "execution_count": 0,
      "outputs": [
        {
          "output_type": "stream",
          "text": [
            "['abc', 'rv', 'ret']\n"
          ],
          "name": "stdout"
        }
      ]
    },
    {
      "cell_type": "code",
      "metadata": {
        "id": "va7V03tlD4ab",
        "colab_type": "code",
        "colab": {}
      },
      "source": [
        "z=model.predict(eg)"
      ],
      "execution_count": 0,
      "outputs": []
    },
    {
      "cell_type": "code",
      "metadata": {
        "id": "zemoLBykuTQB",
        "colab_type": "code",
        "outputId": "fcb852ae-c13d-4068-ce8f-8bcc2e6c6dbf",
        "colab": {
          "base_uri": "https://localhost:8080/",
          "height": 67
        }
      },
      "source": [
        "from keras.datasets import imdb\n",
        "\n",
        "(x_train, y_train), (x_test, y_test) = imdb.load_data(path=\"imdb.npz\",\n",
        "                                                      num_words=None,\n",
        "                                                      skip_top=0,\n",
        "                                                      maxlen=None,\n",
        "                                                      seed=113,\n",
        "                                                      start_char=1,\n",
        "                                                      oov_char=2,\n",
        "                                                      index_from=3)"
      ],
      "execution_count": 0,
      "outputs": [
        {
          "output_type": "stream",
          "text": [
            "Using TensorFlow backend.\n"
          ],
          "name": "stderr"
        },
        {
          "output_type": "stream",
          "text": [
            "Downloading data from https://s3.amazonaws.com/text-datasets/imdb.npz\n",
            "17465344/17464789 [==============================] - 0s 0us/step\n"
          ],
          "name": "stdout"
        }
      ]
    },
    {
      "cell_type": "code",
      "metadata": {
        "id": "8PaZumL6xAxV",
        "colab_type": "code",
        "colab": {}
      },
      "source": [
        "model.save('twitter1.h5')"
      ],
      "execution_count": 0,
      "outputs": []
    },
    {
      "cell_type": "code",
      "metadata": {
        "id": "-fOAv6EubGgI",
        "colab_type": "code",
        "outputId": "5637fe6e-f008-4c56-d4a7-2642808f4457",
        "colab": {
          "base_uri": "https://localhost:8080/",
          "height": 154
        }
      },
      "source": [
        "from keras.models import load_model\n",
        "new_model=load_model('twitter1.h5')"
      ],
      "execution_count": 0,
      "outputs": [
        {
          "output_type": "stream",
          "text": [
            "Using TensorFlow backend.\n"
          ],
          "name": "stderr"
        },
        {
          "output_type": "stream",
          "text": [
            "WARNING:tensorflow:From /usr/local/lib/python3.6/dist-packages/tensorflow/python/framework/op_def_library.py:263: colocate_with (from tensorflow.python.framework.ops) is deprecated and will be removed in a future version.\n",
            "Instructions for updating:\n",
            "Colocations handled automatically by placer.\n",
            "WARNING:tensorflow:From /usr/local/lib/python3.6/dist-packages/tensorflow/python/ops/math_ops.py:3066: to_int32 (from tensorflow.python.ops.math_ops) is deprecated and will be removed in a future version.\n",
            "Instructions for updating:\n",
            "Use tf.cast instead.\n"
          ],
          "name": "stdout"
        }
      ]
    },
    {
      "cell_type": "code",
      "metadata": {
        "id": "QZpX-M_kbQje",
        "colab_type": "code",
        "colab": {}
      },
      "source": [
        ""
      ],
      "execution_count": 0,
      "outputs": []
    }
  ]
}